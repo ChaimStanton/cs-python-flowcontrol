{
 "cells": [
  {
   "cell_type": "markdown",
   "metadata": {},
   "source": [
    "# Selection\n",
    "\n",
    "Sometimes we only want a program to execute code under certain circumstances.  We call this selection.  The most commonly used way of doing this is using if.  Here we say if a condition is true execute some code. \n",
    "First we need to make sure we are happy what a condition is.  A boolean condition is one that can have only two values true or false. \n",
    "\n",
    "The boolean comparison operators are as follows:\n",
    " \n",
    "Operator Meaning\n",
    "\n",
    "symbol ==   Equal to\n",
    "\n",
    "symbol !=   Not equal to\n",
    "\n",
    "symbol <    Less than\n",
    "\n",
    "symbol <=  Less than or equal to\n",
    "\n",
    "symbol >    Greater than\n",
    "\n",
    "symbol >=   Greater than or equal to"
   ]
  },
  {
   "cell_type": "code",
   "execution_count": null,
   "metadata": {},
   "outputs": [],
   "source": [
    "letter = 'a'\n",
    "if letter =='a':\n",
    "    print('This prints if letter is a')"
   ]
  },
  {
   "cell_type": "markdown",
   "metadata": {},
   "source": [
    "We can add as many statements we want inside the if.  Each should be indented.\n",
    "We can tell the computer to do something different when the condition isn’t true using the else keyword."
   ]
  },
  {
   "cell_type": "code",
   "execution_count": null,
   "metadata": {},
   "outputs": [],
   "source": [
    "if letter =='a':\n",
    "    print('This prints if letter is a')\n",
    "else:\n",
    "    print('This prints if the letter is not an a')"
   ]
  },
  {
   "cell_type": "markdown",
   "metadata": {},
   "source": [
    "### Task 1:\n",
    "Write a program that tells the user what to wear (shorts, trousers, hat, coat, etc etc you choose) based on the temperature that they input.\n",
    "\n",
    "Use well-named variable(s), constants(s), string(s), type conversion, a complex IF statement, comparison and logical operators, and good input and output messages."
   ]
  },
  {
   "cell_type": "code",
   "execution_count": 2,
   "metadata": {},
   "outputs": [
    {
     "name": "stdout",
     "output_type": "stream",
     "text": [
      "What is the temperature outside? 55\n",
      "Wear shorts\n"
     ]
    }
   ],
   "source": [
    "temperature = int(input(\"What is the temperature outside? \"))\n",
    "if temperature < 10:\n",
    "    print(\"Wear a hat, scarf, and gloves\")\n",
    "elif temperature < 20:\n",
    "    print(\"Wear trousers but a hat and scarf are not requried\")\n",
    "else: # The temperature is above 20\n",
    "    print(\"Wear shorts\")"
   ]
  },
  {
   "cell_type": "markdown",
   "metadata": {},
   "source": [
    "### A Note on Indentation\n",
    "When you start a new line after a colon your code (if writing it inside IDLE) you should find your code indented).  Lines will keep indenting until you press backspace.  Python knows that anything indented is inside the structure with the colon - in this case the if.  Indenting is considered good practice in all programming languages as it makes code easier to read but in Python it is even more important as it affects the code’s meaning."
   ]
  },
  {
   "cell_type": "markdown",
   "metadata": {},
   "source": [
    "Copy and run sinle line of the code in the cell below and observe the results\n",
    "\n",
    "1 < x < 3\n",
    "\n",
    "10 < x < 20\n",
    "\n",
    "3 > x <= 2\n",
    "\n",
    "2 == x < 4"
   ]
  },
  {
   "cell_type": "code",
   "execution_count": 8,
   "metadata": {},
   "outputs": [
    {
     "data": {
      "text/plain": [
       "8"
      ]
     },
     "execution_count": 8,
     "metadata": {},
     "output_type": "execute_result"
    }
   ],
   "source": [
    "x = 2\n",
    "# write a single line of code here and run \n",
    "# observe the results\n",
    "3 + 5\n",
    "# The last line in a jyupiter notebook is printed "
   ]
  },
  {
   "cell_type": "code",
   "execution_count": 9,
   "metadata": {},
   "outputs": [
    {
     "ename": "SyntaxError",
     "evalue": "invalid syntax (<ipython-input-9-0e4b46cc871f>, line 4)",
     "output_type": "error",
     "traceback": [
      "\u001b[0;36m  File \u001b[0;32m\"<ipython-input-9-0e4b46cc871f>\"\u001b[0;36m, line \u001b[0;32m4\u001b[0m\n\u001b[0;31m    if x>=1 and <=100:\u001b[0m\n\u001b[0m                 ^\u001b[0m\n\u001b[0;31mSyntaxError\u001b[0m\u001b[0;31m:\u001b[0m invalid syntax\n"
     ]
    }
   ],
   "source": [
    "# input any number between 1 and 100\n",
    "x=int(input('Enter a number between 1 and 100: '))\n",
    "# check the validity of the number\n",
    "if x>=1 and <=100:\n",
    "    print('You have entered a valid number')\n",
    "else:\n",
    "    print('Your number is not valid')"
   ]
  },
  {
   "cell_type": "markdown",
   "metadata": {},
   "source": [
    "A common mistake would be to write the if line as if x>=1 and <=100 missing out the second x.  Remove the x and check out the result. Does it generate an error?  \n",
    "The above generates an error because it is not a valid boolean comparison it could be fixed by adding back the x"
   ]
  },
  {
   "cell_type": "markdown",
   "metadata": {},
   "source": [
    "#### Logical operators\n",
    "For more complex conditions we can use AND, OR and NOT. \n",
    "\n",
    "AND : both conditions must be TRUE\n",
    "\n",
    "OR : one condition must be TRUE\n",
    "\n",
    "NOT : only applies to one condition - the opposite"
   ]
  },
  {
   "cell_type": "markdown",
   "metadata": {},
   "source": [
    "## Psuedocode example for IF/ELSE statements\n",
    "\n",
    "IF age > 12 AND height > 3 THEN\n",
    "\n",
    "  OUTPUT “You can ride the roller coaster”\n",
    "  \n",
    "END IF\n",
    "\n",
    "IF age <13 OR age > 19 THEN\n",
    "\n",
    "  OUTPUT “You are not eligible for teen discount”\n",
    "  \n",
    "END IF\n",
    "\n",
    "IF NOT ((age > 12) AND (height > 3)) THEN\n",
    "\n",
    "  OUTPUT “You cannot ride the roller coaster”\n",
    "  \n",
    "END IF"
   ]
  },
  {
   "cell_type": "markdown",
   "metadata": {},
   "source": [
    "##### Could you explain the logic for the above program?\n",
    "\n",
    "If the person is over 12 and taller then 3m then the person can ride the roller coaster \n",
    "If the person is between 13 and 19 then the program outputs that the person is not eligbile for the teen discount this is a logic error\n",
    "The last IF statment repeats itselfIf the person is over 12 and taller then 3m then the person can ride the roller coaster."
   ]
  },
  {
   "cell_type": "markdown",
   "metadata": {},
   "source": [
    "### Task 2:\n",
    "\n",
    "The grade boundaries for a test are:\n",
    "U -  0\n",
    "D – 40\n",
    "C – 50\n",
    "B – 60\n",
    "A – 70\n",
    "\n",
    "Write a Python program that asks for a mark and then says what grade it is worth."
   ]
  },
  {
   "cell_type": "code",
   "execution_count": 15,
   "metadata": {},
   "outputs": [
    {
     "name": "stdout",
     "output_type": "stream",
     "text": [
      "What did you get in your test? 65\n",
      "You got a A\n"
     ]
    }
   ],
   "source": [
    "grade = int(input(\"What did you get in your test? \"))\n",
    "if grade == 0:\n",
    "    print(\"You got a U\")\n",
    "elif grade < 40:\n",
    "    print(\"You got a D\")\n",
    "elif grade < 50:\n",
    "    print(\"You got a C\")\n",
    "elif grade < 60:\n",
    "    print(\"You got a B\")\n",
    "elif grade < 70:\n",
    "    print(\"You got a A\")\n",
    "else:\n",
    "    print(\"You got an A*\")\n"
   ]
  },
  {
   "cell_type": "markdown",
   "metadata": {},
   "source": [
    "### Task 3:\n",
    "Write a Python program which asks the user to enter the cost of two items, adds the two costs and if the cost is greater than £10.00, displays a message “Sorry, too much”. Otherwise it displays the change due from £10.00."
   ]
  },
  {
   "cell_type": "code",
   "execution_count": 20,
   "metadata": {},
   "outputs": [
    {
     "name": "stdout",
     "output_type": "stream",
     "text": [
      "Enter the cost of the first item1\n",
      "Enter the cost of the second item1\n",
      "The change due is£: 8.0\n"
     ]
    }
   ],
   "source": [
    "costOfItemOne = float(input(\"Enter the cost of the first item\"))\n",
    "costOfItemTwo = float(input(\"Enter the cost of the second item\"))\n",
    "totalCost = costOfItemOne + costOfItemTwo\n",
    "if totalCost > 10:\n",
    "    print(\"Sorry too much\")\n",
    "else:\n",
    "    print(\"The change due is£:\", 10-totalCost)"
   ]
  },
  {
   "cell_type": "markdown",
   "metadata": {},
   "source": [
    "### Task 4: Using IF-ELSE statements, write the Python program for the following problems.\n",
    "\n",
    "1) Allow entry to a movie if the user is older than 18 or if they are accompanied by an adult\n",
    "\n",
    "2) Allow the user to come to your party if they are a boy and they like pizza\n",
    "\n",
    "3) Remind the user to take an umbrella if the temperature is higher than 17 and the chance of rain is higher than 80%"
   ]
  },
  {
   "cell_type": "code",
   "execution_count": 1,
   "metadata": {},
   "outputs": [
    {
     "name": "stdout",
     "output_type": "stream",
     "text": [
      "How old are you?50\n",
      "You are allowed into the film\n",
      "Do you like pizza?5\n",
      "You cannot come to the party as you do not like pizza\n",
      "Remeber to take an umbrella with you\n"
     ]
    }
   ],
   "source": [
    "# part 1 age and adult accompanyment \n",
    "age = int(input(\"How old are you?\"))\n",
    "if age < 18:\n",
    "    adultAccompany = input(\"Do you have an adult with you?\").lower()\n",
    "    if adultAccompany == \"yes\":\n",
    "        ageCorrect = True\n",
    "    else:\n",
    "        ageCorrect = False\n",
    "else:\n",
    "        ageCorrect = True\n",
    "        \n",
    "if ageCorrect == True:\n",
    "    print(\"You are allowed into the film\")\n",
    "else:\n",
    "    print(\"Sorry you are not allowed into the film \")\n",
    "\n",
    "# part 2 pizza and gender\n",
    "likePizza = input(\"Do you like pizza?\").lower()\n",
    "if likePizza == \"yes\":\n",
    "    boy = input(\"Are you a boy?\").lower()\n",
    "    if boy == \"yes\":\n",
    "        gender = True\n",
    "        print(\"You can come to my party\")\n",
    "    else:\n",
    "        print(\"Sorry you cannot come to the party as you are the wrong gender\")\n",
    "else:\n",
    "    print(\"You cannot come to the party as you do not like pizza\")\n",
    "\n",
    "# part 3, umbrella\n",
    "chanceOfRain = 100\n",
    "temperature = 100\n",
    "\n",
    "if chanceOfRain > 80 and temperature > 17:\n",
    "    print(\"Remeber to take an umbrella with you\")"
   ]
  }
 ],
 "metadata": {
  "kernelspec": {
   "display_name": "Python 3",
   "language": "python",
   "name": "python3"
  },
  "language_info": {
   "codemirror_mode": {
    "name": "ipython",
    "version": 3
   },
   "file_extension": ".py",
   "mimetype": "text/x-python",
   "name": "python",
   "nbconvert_exporter": "python",
   "pygments_lexer": "ipython3",
   "version": "3.6.5"
  }
 },
 "nbformat": 4,
 "nbformat_minor": 2
}
